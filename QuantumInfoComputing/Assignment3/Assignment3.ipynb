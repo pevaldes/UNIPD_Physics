{
 "cells": [
  {
   "cell_type": "code",
   "execution_count": 1,
   "id": "5d3c0662",
   "metadata": {},
   "outputs": [],
   "source": [
    "import numpy as np\n",
    "import pandas as pd\n",
    "import matplotlib.pyplot as plt\n",
    "from matplotlib.ticker import FormatStrFormatter\n",
    "from scipy.optimize import curve_fit\n",
    "import seaborn as sns\n",
    "import random\n",
    "from datetime import datetime\n",
    "\n",
    "import warnings\n",
    "warnings.filterwarnings('ignore')"
   ]
  },
  {
   "cell_type": "markdown",
   "id": "0d734882",
   "metadata": {},
   "source": [
    "### Scaling of the matrix-matrix multiplication"
   ]
  },
  {
   "cell_type": "code",
   "execution_count": 2,
   "id": "6c47739e",
   "metadata": {},
   "outputs": [],
   "source": [
    "def create_matrix(rows, columns):\n",
    "    \"\"\"\n",
    "    Function that creates a random matrix of integers with dimension rows x columns\n",
    "    \"\"\"\n",
    "    matrix = []\n",
    "    for i in range(rows):\n",
    "        row = [random.randint(1,10) for j in range(columns)]\n",
    "        matrix.append(row)\n",
    "    return matrix"
   ]
  },
  {
   "cell_type": "markdown",
   "id": "e8c14cfd",
   "metadata": {},
   "source": [
    "Write two diffferent order loops for multiplying matrices"
   ]
  },
  {
   "cell_type": "code",
   "execution_count": 3,
   "id": "a996bf2e",
   "metadata": {},
   "outputs": [],
   "source": [
    "def matrix_mulRow(matrix1,matrix2):\n",
    "    \"\"\"\n",
    "    Matrix-Matrix multiplication with row-wise selection\n",
    "    \"\"\"\n",
    "    result = []\n",
    "    for i in range(len(matrix1[0])):\n",
    "        row = []\n",
    "        for j in range(len(matrix2[1])):\n",
    "            entries_sum = 0\n",
    "            for k in range(len(matrix1[1])):\n",
    "                entries_sum += matrix1[i][k]*matrix2[k][j]\n",
    "            row.append(entries_sum)\n",
    "        result.append(row)\n",
    "    \n",
    "    return result"
   ]
  },
  {
   "cell_type": "code",
   "execution_count": 4,
   "id": "e1bf991b",
   "metadata": {},
   "outputs": [],
   "source": [
    "def matrix_mulColumn(matrix1,matrix2):\n",
    "    \"\"\"\n",
    "    Matrix-Matrix multiplication with column-wise selection\n",
    "    \"\"\"\n",
    "    result = []\n",
    "    for i in range(len(matrix2[0])):\n",
    "        row = []\n",
    "        for j in range(len(matrix1[1])):\n",
    "            entries_sum = 0\n",
    "            for k in range(len(matrix1[1])):\n",
    "                entries_sum += matrix1[i][k]*matrix2[k][j]\n",
    "            row.append(entries_sum)\n",
    "        result.append(row)\n",
    "    \n",
    "    return result"
   ]
  },
  {
   "cell_type": "markdown",
   "id": "80e6974f",
   "metadata": {},
   "source": [
    "Write a function that changes $N$ between two values $N_{min}$ and $N_{max}$"
   ]
  },
  {
   "cell_type": "code",
   "execution_count": 5,
   "id": "0a041752",
   "metadata": {},
   "outputs": [],
   "source": [
    "def scaling_matrix_product(N_min, N_max, method, step = 10, write_mode = \"a\"):\n",
    "    \"\"\"\n",
    "    Funtion that does matrix-matrix multiplications with a given method.\n",
    "    Parameters:\n",
    "        N_min: minimum value of the input matrices\n",
    "        N_max: maximum value of the input matrices\n",
    "        method: takes the name of the function used to multiply the matrices\n",
    "        write_mode: mode to store the results\n",
    "            (default) \"a\": appends data to an existing file\n",
    "            (optional) \"w\": creates a new file with the results\n",
    "    \"\"\"\n",
    "    times = []\n",
    "    for i in range(N_min, N_max, step):\n",
    "        matrix_A = create_matrix(i,i)\n",
    "        matrix_B = create_matrix(i,i)\n",
    "        \n",
    "        t_i = datetime.now()\n",
    "        method(matrix_A, matrix_B)\n",
    "        t_f = datetime.now()\n",
    "        \n",
    "        delta_t = t_f - t_i # Measures the time it took to make the matrix product\n",
    "        times.append(delta_t.seconds + delta_t.microseconds*1e-6)\n",
    "        \n",
    "    # Save execution times in a file\n",
    "    filename = \"execution_time_{}.txt\".format(method.__name__)\n",
    "    with open(\"Assignment3/\"+filename, write_mode) as file:\n",
    "        for j in range(len(times)):\n",
    "            file.write(\"{};{}\\n\".format(range(N_min, N_max, step)[j], times[j]))\n",
    "        \n",
    "    return times"
   ]
  },
  {
   "cell_type": "code",
   "execution_count": 6,
   "id": "a26eefb5",
   "metadata": {},
   "outputs": [
    {
     "name": "stdout",
     "output_type": "stream",
     "text": [
      "Done\n"
     ]
    }
   ],
   "source": [
    "N_min = 500\n",
    "N_max = 700\n",
    "#scaling_matrix_product(N_min,N_max,matrix_mulRow)\n",
    "#scaling_matrix_product(N_min,N_max,matrix_mulColumn)\n",
    "#scaling_matrix_product(N_min,N_max,np.matmul)\n",
    "print(\"Done\")"
   ]
  },
  {
   "cell_type": "markdown",
   "id": "e539e012",
   "metadata": {},
   "source": [
    "Read the stored results and fit the function"
   ]
  },
  {
   "cell_type": "code",
   "execution_count": 7,
   "id": "291ee7e6",
   "metadata": {
    "scrolled": true
   },
   "outputs": [],
   "source": [
    "df_row = pd.read_csv(\"Assignment3/execution_time_matrix_mulRow.txt\", sep=\";\")\n",
    "df_row['method'] = \"Row-wise\"\n",
    "df_col = pd.read_csv(\"Assignment3/execution_time_matrix_mulColumn.txt\", sep=\";\")\n",
    "df_col['method'] = \"Column-wise\"\n",
    "df_numpy = pd.read_csv(\"Assignment3/execution_time_matmul.txt\", sep=\";\")\n",
    "df_numpy['method'] = \"Numpy-inner\"\n",
    "\n",
    "# Join all data to have it only in one dataframe\n",
    "df = pd.concat([df_row, df_col, df_numpy])\n",
    "df = df[df['time']!=0]"
   ]
  },
  {
   "cell_type": "code",
   "execution_count": 8,
   "id": "e8d7b987",
   "metadata": {},
   "outputs": [
    {
     "name": "stdout",
     "output_type": "stream",
     "text": [
      "Exponent fit of Row-wise method: 2.9312290453271492\n",
      "Exponent fit of Column-wise method: 2.913529698963001\n",
      "Exponent fit of Numpy-inner method: 2.5150148867837623\n"
     ]
    }
   ],
   "source": [
    "for i in df['method'].unique():\n",
    "    prov_df = df[df['method'] == i]\n",
    "    fit = np.polyfit(np.log(prov_df[\"N\"]), np.log(prov_df[\"time\"]), 1)\n",
    "    print(\"Exponent fit of {} method: {}\".format(i, fit[0]))"
   ]
  },
  {
   "cell_type": "markdown",
   "id": "d479b444",
   "metadata": {},
   "source": [
    "For each method, a linear fit was made. The constant of the first order logarithm is the exponent of the scaling. "
   ]
  },
  {
   "cell_type": "code",
   "execution_count": 9,
   "id": "7b799fd5",
   "metadata": {},
   "outputs": [
    {
     "data": {
      "text/html": [
       "<div>\n",
       "<style scoped>\n",
       "    .dataframe tbody tr th:only-of-type {\n",
       "        vertical-align: middle;\n",
       "    }\n",
       "\n",
       "    .dataframe tbody tr th {\n",
       "        vertical-align: top;\n",
       "    }\n",
       "\n",
       "    .dataframe thead th {\n",
       "        text-align: right;\n",
       "    }\n",
       "</style>\n",
       "<table border=\"1\" class=\"dataframe\">\n",
       "  <thead>\n",
       "    <tr style=\"text-align: right;\">\n",
       "      <th></th>\n",
       "      <th>N</th>\n",
       "      <th>time</th>\n",
       "      <th>method</th>\n",
       "    </tr>\n",
       "  </thead>\n",
       "  <tbody>\n",
       "    <tr>\n",
       "      <th>378</th>\n",
       "      <td>650</td>\n",
       "      <td>0.459000</td>\n",
       "      <td>Numpy-inner</td>\n",
       "    </tr>\n",
       "    <tr>\n",
       "      <th>379</th>\n",
       "      <td>660</td>\n",
       "      <td>0.493000</td>\n",
       "      <td>Numpy-inner</td>\n",
       "    </tr>\n",
       "    <tr>\n",
       "      <th>380</th>\n",
       "      <td>670</td>\n",
       "      <td>0.500000</td>\n",
       "      <td>Numpy-inner</td>\n",
       "    </tr>\n",
       "    <tr>\n",
       "      <th>381</th>\n",
       "      <td>680</td>\n",
       "      <td>0.522014</td>\n",
       "      <td>Numpy-inner</td>\n",
       "    </tr>\n",
       "    <tr>\n",
       "      <th>382</th>\n",
       "      <td>690</td>\n",
       "      <td>0.548002</td>\n",
       "      <td>Numpy-inner</td>\n",
       "    </tr>\n",
       "  </tbody>\n",
       "</table>\n",
       "</div>"
      ],
      "text/plain": [
       "       N      time       method\n",
       "378  650  0.459000  Numpy-inner\n",
       "379  660  0.493000  Numpy-inner\n",
       "380  670  0.500000  Numpy-inner\n",
       "381  680  0.522014  Numpy-inner\n",
       "382  690  0.548002  Numpy-inner"
      ]
     },
     "execution_count": 9,
     "metadata": {},
     "output_type": "execute_result"
    }
   ],
   "source": [
    "df.tail()"
   ]
  },
  {
   "cell_type": "code",
   "execution_count": 10,
   "id": "9683f695",
   "metadata": {},
   "outputs": [
    {
     "data": {
      "text/plain": [
       "Text(0.5, 1.0, 'Scaling of matrix-matrix multiplication')"
      ]
     },
     "execution_count": 10,
     "metadata": {},
     "output_type": "execute_result"
    },
    {
     "data": {
      "image/png": "[encoded data removed]",
      "text/plain": [
       "<Figure size 432x288 with 1 Axes>"
      ]
     },
     "metadata": {
      "needs_background": "light"
     },
     "output_type": "display_data"
    }
   ],
   "source": [
    "sns.scatterplot(data=df, x='N', y='time', hue='method')\n",
    "plt.yscale('log')\n",
    "plt.xscale('log')\n",
    "plt.title('Scaling of matrix-matrix multiplication')"
   ]
  },
  {
   "cell_type": "markdown",
   "id": "32bf2bdd",
   "metadata": {},
   "source": [
    "Log-Log plot of the execution time as a function of the matrix dimension. With a $N$ sufficienty large, one can observe a linear correlation."
   ]
  },
  {
   "cell_type": "markdown",
   "id": "507e1315",
   "metadata": {},
   "source": [
    "### Eigenproblem"
   ]
  },
  {
   "cell_type": "markdown",
   "id": "7431f1d0",
   "metadata": {},
   "source": [
    "Consider a random Hermitian matrix $A$ of size $N$"
   ]
  },
  {
   "cell_type": "markdown",
   "id": "85f6ea31",
   "metadata": {},
   "source": [
    "For a matrix to be Hermitian, one has to consider a square complex matrix that is equal to its own conjugate transpose. "
   ]
  },
  {
   "cell_type": "code",
   "execution_count": 11,
   "id": "4b2d66f7",
   "metadata": {},
   "outputs": [],
   "source": [
    "def create_hermitian(N):\n",
    "    \"\"\"\n",
    "    Creates a hermitian matrix of dimension N x N\n",
    "    \"\"\"\n",
    "    # Creates a random square complex matrix\n",
    "    random_matrix = np.random.rand(N,N) + 1j*np.random.rand(N,N)\n",
    "    \n",
    "    # Make the matrix hermitian\n",
    "    hermitian_matrix = (random_matrix + np.conj(random_matrix.T))/2\n",
    "    \n",
    "    return hermitian_matrix"
   ]
  },
  {
   "cell_type": "markdown",
   "id": "00f0556a",
   "metadata": {},
   "source": [
    "Compute the normalized spacing between eigenvalues"
   ]
  },
  {
   "cell_type": "code",
   "execution_count": 12,
   "id": "3788af8b",
   "metadata": {},
   "outputs": [],
   "source": [
    "def normalized_spacing(N):\n",
    "    \"\"\"\n",
    "    Compute the normalized spacing between eigenvalues of a function\n",
    "    Parameters:\n",
    "        N: dimension of the Hermitian matrix\n",
    "    \"\"\"\n",
    "    A = create_hermitian(N)\n",
    "    eigenvalues = np.linalg.eigh(A, \"L\")[0]\n",
    "    \n",
    "    spacing = []\n",
    "    for i in range(len(eigenvalues) - 1):\n",
    "        space = eigenvalues[i+1] - eigenvalues[i]\n",
    "        spacing.append(space)\n",
    "    space_avg = sum(spacing)/len(spacing)\n",
    "    norm_spacing = spacing/space_avg\n",
    "    \n",
    "    return norm_spacing[:-1]"
   ]
  },
  {
   "cell_type": "markdown",
   "id": "03e66232",
   "metadata": {},
   "source": [
    "### Random matrix theory"
   ]
  },
  {
   "cell_type": "markdown",
   "id": "39fd5a8d",
   "metadata": {},
   "source": [
    "Study the distribution of normalized spacings from different random matrices"
   ]
  },
  {
   "cell_type": "code",
   "execution_count": 13,
   "id": "c12776f4",
   "metadata": {},
   "outputs": [],
   "source": [
    "cant = 10 # number of random matrices\n",
    "N = 1500 # dimension of each matrix\n",
    "norms_spacings = []\n",
    "for i in range(cant):\n",
    "    norms_spacings.append(normalized_spacing(N))"
   ]
  },
  {
   "cell_type": "code",
   "execution_count": 14,
   "id": "648ed1b4",
   "metadata": {},
   "outputs": [],
   "source": [
    "spacings_final = []\n",
    "for i in norms_spacings:\n",
    "    spacings_final = [*spacings_final, *i]\n",
    "bins = 50"
   ]
  },
  {
   "cell_type": "code",
   "execution_count": 15,
   "id": "316cff9c",
   "metadata": {},
   "outputs": [],
   "source": [
    "def probability_distribution(data, bins):\n",
    "    # Create histogram which area is normalized to 1\n",
    "    hist, bin_edge = np.histogram(data, bins=bins,density=True)\n",
    "    \n",
    "    # Compute the probability for each bin\n",
    "    centre = (bin_edge[:-1] + bin_edge[1:])/2\n",
    "    prob_distr = {centre[i]: hist[i] for i in range(len(hist))}\n",
    "    \n",
    "    return prob_distr"
   ]
  },
  {
   "cell_type": "code",
   "execution_count": 16,
   "id": "cdace7f9",
   "metadata": {
    "scrolled": true
   },
   "outputs": [],
   "source": [
    "avg_prob_dist = probability_distribution(spacings_final, bins)"
   ]
  },
  {
   "cell_type": "code",
   "execution_count": 31,
   "id": "2b4f47b4",
   "metadata": {},
   "outputs": [
    {
     "data": {
      "text/plain": [
       "Text(0, 0.5, 'P(s)')"
      ]
     },
     "execution_count": 31,
     "metadata": {},
     "output_type": "execute_result"
    },
    {
     "data": {
      "image/png": "[encoded data removed]",
      "text/plain": [
       "<Figure size 432x288 with 1 Axes>"
      ]
     },
     "metadata": {
      "needs_background": "light"
     },
     "output_type": "display_data"
    }
   ],
   "source": [
    "density_plot = sns.barplot(x=list(avg_prob_dist.keys()), y = list(avg_prob_dist.values()))\n",
    "\n",
    "labels = [item.get_text() for item in density_plot.get_xticklabels()]\n",
    "density_plot.set_xticklabels([round(float(label), 2) for label in labels])\n",
    "\n",
    "for ind, label in enumerate(density_plot.get_xticklabels()):\n",
    "    if ind % 5 == 0:  # every 5th label is kept\n",
    "        label.set_visible(True)\n",
    "    else:\n",
    "        label.set_visible(False)\n",
    "        \n",
    "plt.title(\"Probability distribution of spacings\")\n",
    "plt.xlabel(\"s\")\n",
    "plt.ylabel(\"P(s)\")"
   ]
  },
  {
   "cell_type": "markdown",
   "id": "6b520856",
   "metadata": {},
   "source": [
    "Fit the distributions with the function $P(s) = as^\\alpha \\exp(bs^\\beta)$"
   ]
  },
  {
   "cell_type": "code",
   "execution_count": 18,
   "id": "4022a60c",
   "metadata": {},
   "outputs": [],
   "source": [
    "def exp_func(x,a,b,alpha,beta):\n",
    "    return a*x**alpha*np.exp(b*x**beta)"
   ]
  },
  {
   "cell_type": "code",
   "execution_count": 19,
   "id": "f6fdf60f",
   "metadata": {},
   "outputs": [],
   "source": [
    "popt, pcov = curve_fit(exp_func, list(avg_prob_dist.keys()), list(avg_prob_dist.values()), p0=[50000,-400,2,2], maxfev=5000)"
   ]
  },
  {
   "cell_type": "code",
   "execution_count": 26,
   "id": "d9485748",
   "metadata": {},
   "outputs": [],
   "source": [
    "x = np.linspace(min(list(avg_prob_dist.keys())),max(list(avg_prob_dist.keys())))\n",
    "y = exp_func(x,popt[0], popt[1], popt[2], popt[3])"
   ]
  },
  {
   "cell_type": "code",
   "execution_count": 27,
   "id": "60951ba5",
   "metadata": {},
   "outputs": [
    {
     "data": {
      "text/plain": [
       "<AxesSubplot:>"
      ]
     },
     "execution_count": 27,
     "metadata": {},
     "output_type": "execute_result"
    },
    {
     "data": {
      "image/png": "[encoded data removed]",
      "text/plain": [
       "<Figure size 432x288 with 1 Axes>"
      ]
     },
     "metadata": {
      "needs_background": "light"
     },
     "output_type": "display_data"
    }
   ],
   "source": [
    "sns.scatterplot(x,y)"
   ]
  },
  {
   "cell_type": "code",
   "execution_count": 22,
   "id": "2549a653",
   "metadata": {},
   "outputs": [
    {
     "name": "stdout",
     "output_type": "stream",
     "text": [
      "alpha = 2.3109057262052355\n",
      "beta = 1.4657771370526556\n"
     ]
    }
   ],
   "source": [
    "print(\"alpha = {}\\nbeta = {}\".format(popt[2], popt[3]))"
   ]
  },
  {
   "cell_type": "code",
   "execution_count": null,
   "id": "3e403172",
   "metadata": {},
   "outputs": [],
   "source": []
  }
 ],
 "metadata": {
  "kernelspec": {
   "display_name": "Python 3 (ipykernel)",
   "language": "python",
   "name": "python3"
  },
  "language_info": {
   "codemirror_mode": {
    "name": "ipython",
    "version": 3
   },
   "file_extension": ".py",
   "mimetype": "text/x-python",
   "name": "python",
   "nbconvert_exporter": "python",
   "pygments_lexer": "ipython3",
   "version": "3.9.7"
  }
 },
 "nbformat": 4,
 "nbformat_minor": 5
}
